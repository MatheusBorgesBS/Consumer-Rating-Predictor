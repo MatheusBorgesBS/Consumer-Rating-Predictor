{
 "cells": [
  {
   "cell_type": "code",
   "execution_count": 66,
   "id": "e9d81ab7-a986-4fca-941d-05d100f561fa",
   "metadata": {},
   "outputs": [],
   "source": [
    "from sklearn.model_selection import train_test_split, GridSearchCV\n",
    "from sklearn.feature_extraction.text import TfidfVectorizer\n",
    "from sklearn.ensemble import RandomForestClassifier\n",
    "from sklearn.metrics import accuracy_score, balanced_accuracy_score\n",
    "import numpy as np\n",
    "import time"
   ]
  },
  {
   "cell_type": "code",
   "execution_count": 7,
   "id": "4526e9da-6012-4850-805e-6bb17906fd2d",
   "metadata": {},
   "outputs": [
    {
     "name": "stderr",
     "output_type": "stream",
     "text": [
      "[nltk_data] Downloading package stopwords to\n",
      "[nltk_data]     C:\\Users\\mathe\\AppData\\Roaming\\nltk_data...\n",
      "[nltk_data]   Package stopwords is already up-to-date!\n"
     ]
    }
   ],
   "source": [
    "import nltk\n",
    "nltk.download('stopwords')\n",
    "from nltk.corpus import stopwords\n",
    "\n",
    "stopwords_pt = stopwords.words('portuguese')\n",
    "\n",
    "import pandas as pd\n",
    "import json\n"
   ]
  },
  {
   "cell_type": "code",
   "execution_count": 8,
   "id": "88d4ad15-7ffe-4505-8836-8a9842dcd90d",
   "metadata": {},
   "outputs": [
    {
     "name": "stdout",
     "output_type": "stream",
     "text": [
      "['a', 'à', 'ao', 'aos', 'aquela', 'aquelas', 'aquele', 'aqueles', 'aquilo', 'as', 'às', 'até', 'com', 'como', 'da', 'das', 'de', 'dela', 'delas', 'dele', 'deles', 'depois', 'do', 'dos', 'e', 'é', 'ela', 'elas', 'ele', 'eles', 'em', 'entre', 'era', 'eram', 'éramos', 'essa', 'essas', 'esse', 'esses', 'esta', 'está', 'estamos', 'estão', 'estar', 'estas', 'estava', 'estavam', 'estávamos', 'este', 'esteja', 'estejam', 'estejamos', 'estes', 'esteve', 'estive', 'estivemos', 'estiver', 'estivera', 'estiveram', 'estivéramos', 'estiverem', 'estivermos', 'estivesse', 'estivessem', 'estivéssemos', 'estou', 'eu', 'foi', 'fomos', 'for', 'fora', 'foram', 'fôramos', 'forem', 'formos', 'fosse', 'fossem', 'fôssemos', 'fui', 'há', 'haja', 'hajam', 'hajamos', 'hão', 'havemos', 'haver', 'hei', 'houve', 'houvemos', 'houver', 'houvera', 'houverá', 'houveram', 'houvéramos', 'houverão', 'houverei', 'houverem', 'houveremos', 'houveria', 'houveriam', 'houveríamos', 'houvermos', 'houvesse', 'houvessem', 'houvéssemos', 'isso', 'isto', 'já', 'lhe', 'lhes', 'mais', 'mas', 'me', 'mesmo', 'meu', 'meus', 'minha', 'minhas', 'muito', 'na', 'não', 'nas', 'nem', 'no', 'nos', 'nós', 'nossa', 'nossas', 'nosso', 'nossos', 'num', 'numa', 'o', 'os', 'ou', 'para', 'pela', 'pelas', 'pelo', 'pelos', 'por', 'qual', 'quando', 'que', 'quem', 'são', 'se', 'seja', 'sejam', 'sejamos', 'sem', 'ser', 'será', 'serão', 'serei', 'seremos', 'seria', 'seriam', 'seríamos', 'seu', 'seus', 'só', 'somos', 'sou', 'sua', 'suas', 'também', 'te', 'tem', 'tém', 'temos', 'tenha', 'tenham', 'tenhamos', 'tenho', 'terá', 'terão', 'terei', 'teremos', 'teria', 'teriam', 'teríamos', 'teu', 'teus', 'teve', 'tinha', 'tinham', 'tínhamos', 'tive', 'tivemos', 'tiver', 'tivera', 'tiveram', 'tivéramos', 'tiverem', 'tivermos', 'tivesse', 'tivessem', 'tivéssemos', 'tu', 'tua', 'tuas', 'um', 'uma', 'você', 'vocês', 'vos', '<não há comentários do consumidor>', 'consumidor', 'comentários']\n"
     ]
    }
   ],
   "source": [
    "add = ['<não há comentários do consumidor>', 'consumidor', 'comentários']\n",
    "for i in add:\n",
    "    stopwords_pt.append(i)\n",
    "print(stopwords_pt)"
   ]
  },
  {
   "cell_type": "code",
   "execution_count": 9,
   "id": "d172afe8-a023-49d9-877f-2b2e24b0fd88",
   "metadata": {
    "scrolled": true
   },
   "outputs": [
    {
     "data": {
      "text/html": [
       "<div>\n",
       "<style scoped>\n",
       "    .dataframe tbody tr th:only-of-type {\n",
       "        vertical-align: middle;\n",
       "    }\n",
       "\n",
       "    .dataframe tbody tr th {\n",
       "        vertical-align: top;\n",
       "    }\n",
       "\n",
       "    .dataframe thead th {\n",
       "        text-align: right;\n",
       "    }\n",
       "</style>\n",
       "<table border=\"1\" class=\"dataframe\">\n",
       "  <thead>\n",
       "    <tr style=\"text-align: right;\">\n",
       "      <th></th>\n",
       "      <th>id</th>\n",
       "      <th>empresa</th>\n",
       "      <th>data</th>\n",
       "      <th>local</th>\n",
       "      <th>status</th>\n",
       "      <th>relato</th>\n",
       "      <th>resposta</th>\n",
       "      <th>nota</th>\n",
       "      <th>comentario</th>\n",
       "    </tr>\n",
       "  </thead>\n",
       "  <tbody>\n",
       "    <tr>\n",
       "      <th>0</th>\n",
       "      <td>1</td>\n",
       "      <td>LG Electronics</td>\n",
       "      <td>2024-01-07</td>\n",
       "      <td>Jacuí - MG</td>\n",
       "      <td>Não Resolvido</td>\n",
       "      <td>Com aproximadamente 3 anos de uso deu um probl...</td>\n",
       "      <td>Bom dia, Gabriel. \\n\\nCompreendemos o seu rela...</td>\n",
       "      <td>1</td>\n",
       "      <td>Como relatei, tenho certeza de que se trata de...</td>\n",
       "    </tr>\n",
       "    <tr>\n",
       "      <th>1</th>\n",
       "      <td>2</td>\n",
       "      <td>Hurb - Hotel Urbano</td>\n",
       "      <td>2024-01-07</td>\n",
       "      <td>Imperatriz - MA</td>\n",
       "      <td>Não Resolvido</td>\n",
       "      <td>Solitei desde 2022 o reembolso o qual não obti...</td>\n",
       "      <td>Finalizamos a sua reclamação e você pode encon...</td>\n",
       "      <td>1</td>\n",
       "      <td>Empresa usa apenas mensagens automáticas e não...</td>\n",
       "    </tr>\n",
       "    <tr>\n",
       "      <th>2</th>\n",
       "      <td>3</td>\n",
       "      <td>Hurb - Hotel Urbano</td>\n",
       "      <td>2024-01-07</td>\n",
       "      <td>Três Corações - MG</td>\n",
       "      <td>Não Resolvido</td>\n",
       "      <td>No ano de 2021 comprei um pacote de viagem com...</td>\n",
       "      <td>Olá, viajante! Tudo bem com você?\\n\\nFinalizam...</td>\n",
       "      <td>1</td>\n",
       "      <td>Mais uma vez não conseguiram resolver o meu pr...</td>\n",
       "    </tr>\n",
       "    <tr>\n",
       "      <th>3</th>\n",
       "      <td>4</td>\n",
       "      <td>Latam Airlines (Tam)</td>\n",
       "      <td>2024-01-07</td>\n",
       "      <td>Maringá - PR</td>\n",
       "      <td>Resolvido</td>\n",
       "      <td>Estava programado para eu ir em um voo GRU-MOC...</td>\n",
       "      <td>Olá ,\\n\\nInformamos que providenciamos os devi...</td>\n",
       "      <td>5</td>\n",
       "      <td>Finalizaram depositand o valor na Latam Wallet.</td>\n",
       "    </tr>\n",
       "    <tr>\n",
       "      <th>4</th>\n",
       "      <td>5</td>\n",
       "      <td>Hurb - Hotel Urbano</td>\n",
       "      <td>2024-01-07</td>\n",
       "      <td>Maringá - PR</td>\n",
       "      <td>Não Resolvido</td>\n",
       "      <td>Viagem comprada para 2023. Pedi reembolso. Dis...</td>\n",
       "      <td>Olá, viajante! Tudo bem com você?\\n\\nFinalizam...</td>\n",
       "      <td>1</td>\n",
       "      <td>Respostas protocolares como sempre fizeram sem...</td>\n",
       "    </tr>\n",
       "  </tbody>\n",
       "</table>\n",
       "</div>"
      ],
      "text/plain": [
       "   id               empresa        data               local         status  \\\n",
       "0   1        LG Electronics  2024-01-07          Jacuí - MG  Não Resolvido   \n",
       "1   2   Hurb - Hotel Urbano  2024-01-07     Imperatriz - MA  Não Resolvido   \n",
       "2   3   Hurb - Hotel Urbano  2024-01-07  Três Corações - MG  Não Resolvido   \n",
       "3   4  Latam Airlines (Tam)  2024-01-07        Maringá - PR      Resolvido   \n",
       "4   5   Hurb - Hotel Urbano  2024-01-07        Maringá - PR  Não Resolvido   \n",
       "\n",
       "                                              relato  \\\n",
       "0  Com aproximadamente 3 anos de uso deu um probl...   \n",
       "1  Solitei desde 2022 o reembolso o qual não obti...   \n",
       "2  No ano de 2021 comprei um pacote de viagem com...   \n",
       "3  Estava programado para eu ir em um voo GRU-MOC...   \n",
       "4  Viagem comprada para 2023. Pedi reembolso. Dis...   \n",
       "\n",
       "                                            resposta nota  \\\n",
       "0  Bom dia, Gabriel. \\n\\nCompreendemos o seu rela...    1   \n",
       "1  Finalizamos a sua reclamação e você pode encon...    1   \n",
       "2  Olá, viajante! Tudo bem com você?\\n\\nFinalizam...    1   \n",
       "3  Olá ,\\n\\nInformamos que providenciamos os devi...    5   \n",
       "4  Olá, viajante! Tudo bem com você?\\n\\nFinalizam...    1   \n",
       "\n",
       "                                          comentario  \n",
       "0  Como relatei, tenho certeza de que se trata de...  \n",
       "1  Empresa usa apenas mensagens automáticas e não...  \n",
       "2  Mais uma vez não conseguiram resolver o meu pr...  \n",
       "3    Finalizaram depositand o valor na Latam Wallet.  \n",
       "4  Respostas protocolares como sempre fizeram sem...  "
      ]
     },
     "execution_count": 9,
     "metadata": {},
     "output_type": "execute_result"
    }
   ],
   "source": [
    "with open('dados2025.json', 'r', encoding='utf-8') as f:\n",
    "    data = json.load(f)\n",
    "df = pd.json_normalize(data)\n",
    "df.head()"
   ]
  },
  {
   "cell_type": "code",
   "execution_count": 10,
   "id": "e0a0592e-cf00-4eb0-99fe-14909ab923ac",
   "metadata": {},
   "outputs": [
    {
     "name": "stdout",
     "output_type": "stream",
     "text": [
      "58729\n"
     ]
    }
   ],
   "source": [
    "#Conta quantos dos dados sem comentario existem.\n",
    "num_n_comentarios = df['comentario'].str.count(\"<não há comentários do consumidor>\").sum()\n",
    "print(num_n_comentarios)"
   ]
  },
  {
   "cell_type": "code",
   "execution_count": 11,
   "id": "1abc7e23-8036-407a-a747-310a718a746a",
   "metadata": {},
   "outputs": [],
   "source": [
    "# Cria um filtro para somente os comentarios validos, aqueles que existem, e transoforma a nota para um numero inteiro.\n",
    "df = df[(df['comentario'] != '<não há comentários do consumidor>') & (df['nota'].isin(['1', '2', '3', '4', '5']))]\n",
    "df['nota'] = df['nota'].astype(int)\n",
    "\n",
    "# Transforma os status em numeros, para melhor leitura computacional no treino.\n",
    "df['status'] = df['status'].map({'Resolvido': 1, 'Não Resolvido': 0})"
   ]
  },
  {
   "cell_type": "code",
   "execution_count": 16,
   "id": "0b64cdf0-689c-4966-8a8a-f004a3711643",
   "metadata": {},
   "outputs": [],
   "source": [
    "# A variavel vetorizada vai transformar a seçao de comentario em vetores numericos com base em TF-IDF (term frequency–inverse document frequency),\n",
    "# Ela vai remover as stopwords e selecionar no maximo 500 palavras mais importantes com base no TF-IDF\n",
    "vetor = TfidfVectorizer(stop_words=stopwords_pt, max_features=500)\n",
    "X_text = vetor.fit_transform(df['comentario'])"
   ]
  },
  {
   "cell_type": "code",
   "execution_count": 27,
   "id": "4b7af466-8357-4cf9-af10-6a39f6491028",
   "metadata": {},
   "outputs": [],
   "source": [
    "# Transforma a matriz para um Df, e transforma tudo na coluna para um Str\n",
    "X_text_df = pd.DataFrame(X_text.toarray())\n",
    "X_text_df.columns = X_text_df.columns.astype(str)\n",
    "# Concatena o vetor e a coluna status\n",
    "X = pd.concat([X_text_df, df['status'].reset_index(drop=True)], axis=1)\n",
    "y = df['nota']\n"
   ]
  },
  {
   "cell_type": "code",
   "execution_count": 30,
   "id": "47a719b2-1e72-4609-bf4a-e24b72fe96d5",
   "metadata": {},
   "outputs": [
    {
     "name": "stdout",
     "output_type": "stream",
     "text": [
      "Proporçao de classes \n",
      "nota\n",
      "1    0.443888\n",
      "5    0.403791\n",
      "4    0.062592\n",
      "3    0.055633\n",
      "2    0.034096\n",
      "Name: proportion, dtype: float64\n"
     ]
    }
   ],
   "source": [
    "# Proporçao de classes\n",
    "proporcao_classe = y.value_counts(normalize = True)\n",
    "print(f'Proporçao de classes \\n{proporcao_classe}')"
   ]
  },
  {
   "cell_type": "code",
   "execution_count": 31,
   "id": "fab9af29-2444-415e-bf3b-b54576bbea20",
   "metadata": {},
   "outputs": [],
   "source": [
    "X_train, X_test, y_train, y_test = train_test_split(X, y, test_size= 0.2, random_state= 42)"
   ]
  },
  {
   "cell_type": "code",
   "execution_count": 32,
   "id": "c32ec451-5345-4953-bfc7-46b63e173e22",
   "metadata": {},
   "outputs": [
    {
     "name": "stdout",
     "output_type": "stream",
     "text": [
      "Dados de treino e teste:\n",
      "(116117, 501)(29030, 501)\n"
     ]
    }
   ],
   "source": [
    "print(f'Dados de treino e teste:\\n{X_train.shape}{X_test.shape}')"
   ]
  },
  {
   "cell_type": "code",
   "execution_count": 34,
   "id": "d657ed57-be01-45d9-b017-12b53d4c8974",
   "metadata": {},
   "outputs": [
    {
     "name": "stdout",
     "output_type": "stream",
     "text": [
      "Numero de classes:\n",
      "5\n"
     ]
    }
   ],
   "source": [
    "# Como as notas vao de 1 a 5 esperasse que y_train.nunique() tenha 5 classes.\n",
    "print(f'Numero de classes:\\n{y_train.nunique()}')"
   ]
  },
  {
   "cell_type": "code",
   "execution_count": 35,
   "id": "470a6883-8a8a-4756-865e-dcdafacfd6b7",
   "metadata": {},
   "outputs": [],
   "source": [
    "# Criar hiperparametros para nossa randomforest\n",
    "parametros = {\n",
    "    'n_estimators' : [25, 50, 100, 200],\n",
    "    'max_depth': [5,10,20,40, None]\n",
    "}\n"
   ]
  },
  {
   "cell_type": "code",
   "execution_count": null,
   "id": "3d05241a-3960-4ae3-978b-6e666569ec06",
   "metadata": {},
   "outputs": [],
   "source": [
    "# Implementar Randomforest\n",
    "model = RandomForestClassifier(random_state= 42, n_jobs= -1)\n",
    "grid_search = GridSearchCV(model, parametros, cv = 5, scoring='accuracy')\n",
    "# Marcar o tempo percorrido para o Gridsearch\n",
    "start = time.time()\n",
    "print('Iniciando busca')\n",
    "grid_search.fit(X_train,y_train)"
   ]
  },
  {
   "cell_type": "code",
   "execution_count": 41,
   "id": "4f5af45d-29eb-44e6-a0de-7c4a65daa1ca",
   "metadata": {},
   "outputs": [],
   "source": [
    "# Pegar o melhor estimator.\n",
    "best_model = grid_search.best_estimator_\n",
    "y_pred = best_model.predict(X_test)\n",
    "accuracy = accuracy_score(y_test, y_pred)\n",
    "balanced_accuracy = balanced_accuracy_score(y_test, y_pred)"
   ]
  },
  {
   "cell_type": "code",
   "execution_count": 42,
   "id": "1cd0df6c-599d-4171-a3ed-626510eda0b0",
   "metadata": {},
   "outputs": [
    {
     "name": "stdout",
     "output_type": "stream",
     "text": [
      "Modelo com maior acurácia: 80.76%\n",
      "Acurácia balanceado do melhor modelo38.25%\n",
      "Melhor parametros: {'max_depth': 40, 'n_estimators': 200}\n"
     ]
    }
   ],
   "source": [
    "print(f'Modelo com maior acurácia: {accuracy*100 :.2f}%')\n",
    "print(f'Acurácia balanceado do melhor modelo{balanced_accuracy*100:.2f}%')\n",
    "print(f'Melhor parametros:', grid_search.best_params_)"
   ]
  },
  {
   "cell_type": "code",
   "execution_count": 46,
   "id": "6bcee4dc-d1b3-4027-823e-d566eb40a5d5",
   "metadata": {},
   "outputs": [
    {
     "name": "stdout",
     "output_type": "stream",
     "text": [
      "Features importantes:\n",
      "status: 0.43260579805555344\n",
      "294: 0.042985419401126844\n",
      "25: 0.025691736157439443\n",
      "59: 0.021404169426208108\n",
      "293: 0.021184394232334553\n",
      "275: 0.015854225061799912\n",
      "400: 0.01233751875577134\n",
      "411: 0.012008561607972045\n",
      "190: 0.011879447508426365\n",
      "412: 0.0115546896927917\n",
      "Tempo percorrido: 27.22 minutos\n"
     ]
    }
   ],
   "source": [
    "# Features mais importantes\n",
    "importantes = best_model.feature_importances_\n",
    "indices = importantes.argsort()[::-1]\n",
    "print('Features importantes:')\n",
    "for i in range(10):\n",
    "    print(f'{X.columns[indices[i]]}: {importantes[indices[i]]}')\n",
    "end = time.time()\n",
    "print(f'Tempo percorrido: {(end - start)/60:.2f} minutos')"
   ]
  },
  {
   "cell_type": "code",
   "execution_count": 55,
   "id": "1a22abb9-0131-415d-ba71-c6bf698749e4",
   "metadata": {},
   "outputs": [
    {
     "name": "stdout",
     "output_type": "stream",
     "text": [
      "obrigado\n",
      "agradeço\n",
      "atendimento\n",
      "obrigada\n",
      "nada\n"
     ]
    }
   ],
   "source": [
    "# Palavras com maior peso para avaliaçao:\n",
    "palavras = vetor.get_feature_names_out()\n",
    "print(palavras[294])\n",
    "print(palavras[25])\n",
    "print(palavras[59])\n",
    "print(palavras[293])\n",
    "print(palavras[275])"
   ]
  },
  {
   "cell_type": "code",
   "execution_count": 70,
   "id": "63b94404-e4d4-4b9f-9186-400eb2357770",
   "metadata": {},
   "outputs": [],
   "source": [
    "# Salva os resultados\n",
    "results = pd.DataFrame({\n",
    "    'Valor real': y_test,\n",
    "    'Previsão': y_pred,\n",
    "})\n",
    "\n",
    "results['Diferença'] = results['Valor real'] - results['Previsão']\n",
    "results['Correto'] = results['Diferença'].apply(lambda x: 'Sim' if x == 0 else 'Não')\n",
    "results.to_excel('True_values_X_Predictions.xlsx', index= True)"
   ]
  },
  {
   "cell_type": "code",
   "execution_count": null,
   "id": "92aef924-85b7-4034-9673-fb36ec62a97b",
   "metadata": {},
   "outputs": [],
   "source": []
  }
 ],
 "metadata": {
  "kernelspec": {
   "display_name": "Python 3 (ipykernel)",
   "language": "python",
   "name": "python3"
  },
  "language_info": {
   "codemirror_mode": {
    "name": "ipython",
    "version": 3
   },
   "file_extension": ".py",
   "mimetype": "text/x-python",
   "name": "python",
   "nbconvert_exporter": "python",
   "pygments_lexer": "ipython3",
   "version": "3.12.4"
  }
 },
 "nbformat": 4,
 "nbformat_minor": 5
}
